{
 "cells": [
  {
   "cell_type": "markdown",
   "id": "089adc3f-943e-4b49-bc45-9e11c737b579",
   "metadata": {},
   "source": [
    "## Polytope hsvs download example notebook\n",
    "\n",
    "To install the correct package and set the correct credentials see the readme."
   ]
  },
  {
   "cell_type": "code",
   "execution_count": 4,
   "id": "b2827834-1bcf-4958-83b4-c3a6b9a70275",
   "metadata": {},
   "outputs": [
    {
     "name": "stderr",
     "output_type": "stream",
     "text": [
      "2024-06-12 12:45:49 - INFO - Fetching collections...\n"
     ]
    },
    {
     "name": "stderr",
     "output_type": "stream",
     "text": [
      "2024-06-12 12:45:54 - INFO - The following collections are available:\n",
      "  - debug\n",
      "  - debug-raise\n",
      "  - dummy\n",
      "  - ecmwf-mars\n",
      "  - ecmwf-mars-beta\n",
      "  - everest-mars\n",
      "  - fdb-test\n",
      "  - ichange\n",
      "  - iot\n",
      "  - mars-test\n",
      "  - webmars-test\n"
     ]
    },
    {
     "data": {
      "text/plain": [
       "['debug',\n",
       " 'debug-raise',\n",
       " 'dummy',\n",
       " 'ecmwf-mars',\n",
       " 'ecmwf-mars-beta',\n",
       " 'everest-mars',\n",
       " 'fdb-test',\n",
       " 'ichange',\n",
       " 'iot',\n",
       " 'mars-test',\n",
       " 'webmars-test']"
      ]
     },
     "execution_count": 4,
     "metadata": {},
     "output_type": "execute_result"
    }
   ],
   "source": [
    "from polytope.api import Client\n",
    "\n",
    "# Instantiate and configure the client\n",
    "# If using EmailKey or Bearer credentials, you can specify them in the Client constructor\n",
    "# You can disregard these parameters if you have specified your credentials via environment \n",
    "# variables or configuration file\n",
    "c = Client(user_email = '<email_key>',\n",
    "           user_key = '<api_key>')\n",
    "\n",
    "# List the available collections to retrieve from\n",
    "c.list_collections()"
   ]
  },
  {
   "cell_type": "code",
   "execution_count": 9,
   "id": "c24401aa",
   "metadata": {},
   "outputs": [
    {
     "name": "stderr",
     "output_type": "stream",
     "text": [
      "2024-06-12 12:47:24 - INFO - Sending request...\n",
      "{'request': 'class: rd\\n'\n",
      "            \"date: '20200915'\\n\"\n",
      "            'domain: g\\n'\n",
      "            'expver: hsvs\\n'\n",
      "            'levellist: 1/10\\n'\n",
      "            'levtype: pl\\n'\n",
      "            \"param: '129.128'\\n\"\n",
      "            'step: 0/1\\n'\n",
      "            'stream: oper\\n'\n",
      "            \"time: '0000'\\n\"\n",
      "            'type: fc\\n',\n",
      " 'verb': 'retrieve'}\n",
      "2024-06-12 12:47:24 - INFO - Request accepted. Please poll http://polytope.ecmwf.int/api/v1/requests/420b7d1e-05e2-4739-9424-1c94a6b2a70a for status\n",
      "2024-06-12 12:47:24 - INFO - Checking request status (420b7d1e-05e2-4739-9424-1c94a6b2a70a)...\n",
      "2024-06-12 12:47:25 - INFO - The current status of the request is 'processing'\n",
      "2024-06-12 12:47:29 - INFO - The current status of the request is 'processed'\n",
      "2024-06-12 12:47:29 - INFO - Starting data download (application/x-grib)...\n",
      "2024-06-12 12:47:29 - INFO - Saving data into hsvs.grib...\n",
      "2024-06-12 12:47:32 - INFO - Data downloaded successfully\n",
      "2024-06-12 12:47:32 - INFO - Download rate 4.2MiB/s\n",
      "2024-06-12 12:47:32 - INFO - Data saved successfully into hsvs.grib\n"
     ]
    },
    {
     "data": {
      "text/plain": [
       "['hsvs.grib']"
      ]
     },
     "execution_count": 9,
     "metadata": {},
     "output_type": "execute_result"
    }
   ],
   "source": [
    "request = {\n",
    "    'stream': 'oper',\n",
    "    'levtype': 'pl',\n",
    "    'levellist': '1/10',\n",
    "    'param': '129.128',\n",
    "    'step': '0/1',\n",
    "    'time': '0000',\n",
    "    'date': '20200915',\n",
    "    'type': 'fc',\n",
    "    'class': 'rd',\n",
    "    'expver': 'hsvs',\n",
    "    'domain': 'g'\n",
    "}\n",
    "\n",
    "# Retrieve data\n",
    "c.retrieve('ecmwf-mars', request, 'hsvs.grib')"
   ]
  },
  {
   "cell_type": "code",
   "execution_count": null,
   "id": "4a7596c5",
   "metadata": {},
   "outputs": [],
   "source": []
  }
 ],
 "metadata": {
  "kernelspec": {
   "display_name": "Python 3",
   "language": "python",
   "name": "python3"
  },
  "language_info": {
   "codemirror_mode": {
    "name": "ipython",
    "version": 3
   },
   "file_extension": ".py",
   "mimetype": "text/x-python",
   "name": "python",
   "nbconvert_exporter": "python",
   "pygments_lexer": "ipython3",
   "version": "3.11.7"
  }
 },
 "nbformat": 4,
 "nbformat_minor": 5
}
