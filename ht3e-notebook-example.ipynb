{
 "cells": [
  {
   "cell_type": "markdown",
   "id": "089adc3f-943e-4b49-bc45-9e11c737b579",
   "metadata": {},
   "source": [
    "## Polytope ht3e download example notebook\n",
    "\n",
    "To install the correct package and set the correct credentials see the readme."
   ]
  },
  {
   "cell_type": "code",
   "execution_count": 5,
   "id": "b2827834-1bcf-4958-83b4-c3a6b9a70275",
   "metadata": {},
   "outputs": [
    {
     "name": "stderr",
     "output_type": "stream",
     "text": [
      "2024-06-12 12:45:02 - INFO - Fetching collections...\n"
     ]
    },
    {
     "name": "stderr",
     "output_type": "stream",
     "text": [
      "2024-06-12 12:45:08 - INFO - The following collections are available:\n",
      "  - debug\n",
      "  - debug-raise\n",
      "  - dummy\n",
      "  - ecmwf-mars\n",
      "  - ecmwf-mars-beta\n",
      "  - everest-mars\n",
      "  - fdb-test\n",
      "  - ichange\n",
      "  - iot\n",
      "  - mars-test\n",
      "  - webmars-test\n"
     ]
    },
    {
     "data": {
      "text/plain": [
       "['debug',\n",
       " 'debug-raise',\n",
       " 'dummy',\n",
       " 'ecmwf-mars',\n",
       " 'ecmwf-mars-beta',\n",
       " 'everest-mars',\n",
       " 'fdb-test',\n",
       " 'ichange',\n",
       " 'iot',\n",
       " 'mars-test',\n",
       " 'webmars-test']"
      ]
     },
     "execution_count": 5,
     "metadata": {},
     "output_type": "execute_result"
    }
   ],
   "source": [
    "from polytope.api import Client\n",
    "\n",
    "# Instantiate and configure the client\n",
    "# If using EmailKey or Bearer credentials, you can specify them in the Client constructor\n",
    "# You can disregard these parameters if you have specified your credentials via environment \n",
    "# variables or configuration file\n",
    "c = Client(user_email = '<email_key>',\n",
    "           user_key = '<api_key>')\n",
    "\n",
    "# List the available collections to retrieve from\n",
    "c.list_collections()"
   ]
  },
  {
   "cell_type": "code",
   "execution_count": 6,
   "id": "c24401aa",
   "metadata": {},
   "outputs": [
    {
     "name": "stderr",
     "output_type": "stream",
     "text": [
      "2024-06-12 12:45:09 - INFO - Sending request...\n",
      "{'request': 'class: rd\\n'\n",
      "            \"date: '20161028'\\n\"\n",
      "            'domain: g\\n'\n",
      "            'expver: ht3e\\n'\n",
      "            \"levellist: '1'\\n\"\n",
      "            'levtype: pl\\n'\n",
      "            \"param: '129.128'\\n\"\n",
      "            \"step: '0'\\n\"\n",
      "            'stream: oper\\n'\n",
      "            'time: 00:00\\n'\n",
      "            'type: fc\\n',\n",
      " 'verb': 'retrieve'}\n",
      "2024-06-12 12:45:10 - INFO - Request accepted. Please poll http://polytope.ecmwf.int/api/v1/requests/4f90a292-4b9d-44f7-a0bf-e72249e62240 for status\n",
      "2024-06-12 12:45:10 - INFO - Checking request status (4f90a292-4b9d-44f7-a0bf-e72249e62240)...\n",
      "2024-06-12 12:45:11 - INFO - The current status of the request is 'processing'\n",
      "2024-06-12 12:45:12 - INFO - The current status of the request is 'processed'\n",
      "2024-06-12 12:45:12 - INFO - Starting data download (application/x-grib)...\n",
      "2024-06-12 12:45:12 - INFO - Saving data into ht3e.grib...\n",
      "2024-06-12 12:45:18 - INFO - Data downloaded successfully\n",
      "2024-06-12 12:45:18 - INFO - Download rate 2.1MiB/s\n",
      "2024-06-12 12:45:18 - INFO - Data saved successfully into ht3e.grib\n"
     ]
    },
    {
     "data": {
      "text/plain": [
       "['ht3e.grib']"
      ]
     },
     "execution_count": 6,
     "metadata": {},
     "output_type": "execute_result"
    }
   ],
   "source": [
    "request = {\n",
    "    'stream': 'oper',\n",
    "    'levtype': 'pl',\n",
    "    'levellist': '1',\n",
    "    'param': '129.128',\n",
    "    'step': '0',\n",
    "    'time': '00:00',\n",
    "    'date': '20161028',\n",
    "    'type': 'fc',\n",
    "    'class': 'rd',\n",
    "    'expver': 'ht3e',\n",
    "    'domain': 'g'\n",
    "}\n",
    "\n",
    "# Retrieve data\n",
    "c.retrieve('ecmwf-mars', request, 'ht3e.grib')"
   ]
  },
  {
   "cell_type": "code",
   "execution_count": null,
   "id": "4a7596c5",
   "metadata": {},
   "outputs": [],
   "source": []
  }
 ],
 "metadata": {
  "kernelspec": {
   "display_name": "Python 3",
   "language": "python",
   "name": "python3"
  },
  "language_info": {
   "codemirror_mode": {
    "name": "ipython",
    "version": 3
   },
   "file_extension": ".py",
   "mimetype": "text/x-python",
   "name": "python",
   "nbconvert_exporter": "python",
   "pygments_lexer": "ipython3",
   "version": "3.11.7"
  }
 },
 "nbformat": 4,
 "nbformat_minor": 5
}
